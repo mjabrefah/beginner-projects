{
 "cells": [
  {
   "cell_type": "markdown",
   "id": "a09d45d3-5522-490b-a97a-87a342b62a0e",
   "metadata": {},
   "source": [
    "## Creating Hangman\n",
    "### Final Design\n",
    "1. Select a word to play with\n",
    "2. Ask user for input\n",
    "3. Check if guess is correct  \n",
    "   a. If it is, show the letter in the proper place  \n",
    "   b. If it isn't, lose a life  \n",
    "4. Continue steps 2 and 3 until one of the following occurs:  \n",
    "   a. The user guesses the word correctly  \n",
    "   b. The user loses all their lives"
   ]
  },
  {
   "cell_type": "code",
   "execution_count": 2,
   "id": "f95f99ab-ddb0-4629-a10d-652d8a03ef4e",
   "metadata": {},
   "outputs": [],
   "source": [
    "# import necessary functions\n",
    "from random import choice    # will select a random item from a list\n",
    "from IPython.display import clear_output"
   ]
  },
  {
   "cell_type": "code",
   "execution_count": 7,
   "id": "8fb7cfa0-191f-4c14-9901-5d24988862f3",
   "metadata": {},
   "outputs": [
    {
     "name": "stdout",
     "output_type": "stream",
     "text": [
      "paper\n"
     ]
    }
   ],
   "source": [
    "# declare game variables\n",
    "words = ['tree', 'basket', 'chair', 'paper', 'python']  \n",
    "word = choice(words)    # randomly chooses a word from words list\n",
    "guessed, lives, game_over = [], 7, False   # multi-variable assignment\n",
    "print(word)"
   ]
  },
  {
   "cell_type": "code",
   "execution_count": 8,
   "id": "c7fba4f4-4c3c-43c2-b44f-54e6349637ab",
   "metadata": {},
   "outputs": [
    {
     "name": "stdout",
     "output_type": "stream",
     "text": [
      "['_', '_', '_', '_', '_']\n"
     ]
    }
   ],
   "source": [
    "# create a list of underscores to the length of the word\n",
    "guesses = [\"_\"] * len(word)\n",
    "print(guesses)"
   ]
  },
  {
   "cell_type": "code",
   "execution_count": 12,
   "id": "bc00814b-5d22-4e73-8d15-132561ffc93c",
   "metadata": {},
   "outputs": [],
   "source": [
    "# create main game loop\n",
    "# TESTING 1, 2.\n",
    "# while not game_over:\n",
    "#     ans = input(\"Type quit or guess a letter: \").lower()\n",
    "#     if ans == 'quit':\n",
    "#         print(\"Thanks for playing\")\n",
    "#     game_over = True"
   ]
  },
  {
   "cell_type": "code",
   "execution_count": 13,
   "id": "261157e8-9147-4aad-967b-64fd8939c1b2",
   "metadata": {},
   "outputs": [],
   "source": [
    "# the main loop\n",
    "while not game_over:\n",
    "    #  output game information\n",
    "    hidden_word = \"\".join(guesses)\n",
    "    print(f'Word to guess: {hidden_word}')\n",
    "    print(f'Lives: {lives}')\n",
    "    ans = input(\"Type quit or guess a letter: \").lower()\n",
    "    game_over = True"
   ]
  }
 ],
 "metadata": {
  "kernelspec": {
   "display_name": "Python 3 (ipykernel)",
   "language": "python",
   "name": "python3"
  },
  "language_info": {
   "codemirror_mode": {
    "name": "ipython",
    "version": 3
   },
   "file_extension": ".py",
   "mimetype": "text/x-python",
   "name": "python",
   "nbconvert_exporter": "python",
   "pygments_lexer": "ipython3",
   "version": "3.11.0"
  }
 },
 "nbformat": 4,
 "nbformat_minor": 5
}
