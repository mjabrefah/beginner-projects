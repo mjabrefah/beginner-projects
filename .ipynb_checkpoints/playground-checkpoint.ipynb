{
 "cells": [
  {
   "cell_type": "markdown",
   "id": "b37d7d29-5b89-4419-a60b-fd8b8e76a01c",
   "metadata": {},
   "source": [
    "## User Input and Type Converting."
   ]
  },
  {
   "cell_type": "code",
   "execution_count": null,
   "id": "fe2fac6d-2046-42fd-a532-ed4748ed6f32",
   "metadata": {},
   "outputs": [],
   "source": [
    "# accepting and outputting user input  \n",
    "print(input(\"What is your name? \")) "
   ]
  },
  {
   "cell_type": "code",
   "execution_count": null,
   "id": "b5839aeb-e56f-4f88-8bbc-7e43d7798955",
   "metadata": {},
   "outputs": [],
   "source": [
    "# saving what the user inputs  \n",
    "ans = input(\"What is your name? \")  \n",
    "print(f'Hello {ans}')"
   ]
  },
  {
   "cell_type": "code",
   "execution_count": null,
   "id": "d778885a-c42d-4364-891a-2186422a41a4",
   "metadata": {},
   "outputs": [],
   "source": [
    "# how to check the data type of a variable  \n",
    "num = 5  \n",
    "print(type(num))"
   ]
  },
  {
   "cell_type": "code",
   "execution_count": null,
   "id": "328a8f86-cc28-4d15-ba8a-a2a6475e4cc6",
   "metadata": {},
   "outputs": [],
   "source": [
    "# converting a variable from one data type to another  \n",
    "num = \"9\"  \n",
    "print(type(num))  \n",
    "\n",
    "num = int(num)    # re-declaring num to store an integer  \n",
    "print(type(num))   # checking type to make sure conversion worked"
   ]
  },
  {
   "cell_type": "code",
   "execution_count": null,
   "id": "14dd0a15-c8ae-41fe-b112-9e43c9eba848",
   "metadata": {},
   "outputs": [],
   "source": [
    "# working with user input to perform calculations  \n",
    "ans = input(\"Type a number to add: \")  \n",
    "print(type(ans))    # default type is string, must convert  \n",
    "result = 100 + int(ans)  \n",
    "print(f'100 + {ans} = {result}')"
   ]
  },
  {
   "cell_type": "code",
   "execution_count": null,
   "id": "364e185f-772c-4918-9261-3f0015215518",
   "metadata": {},
   "outputs": [],
   "source": [
    "# using try and except blocks to catch errors\n",
    "try:\n",
    "    ans = float(input(\"Type a number to add: \"))\n",
    "    print(f'100 + {ans} = {100 + ans}')\n",
    "except:\n",
    "    print(\"You did not put in a valid number!\")\n",
    "\n",
    "print(\"The program did not break!\")"
   ]
  },
  {
   "cell_type": "code",
   "execution_count": null,
   "id": "e2f20eae-8adf-4925-857f-4af74dbecf11",
   "metadata": {},
   "outputs": [],
   "source": [
    "ans = float(input(\"What is 5 + 5 dawg? \"))  \n",
    "if ans == 10:\n",
    "          print(\"That's right dawg\")\n",
    "else:\n",
    "    print(\"You trippin' dawg\")"
   ]
  },
  {
   "cell_type": "markdown",
   "id": "1c7b76c7-026e-4c44-8686-fa831727702e",
   "metadata": {},
   "source": [
    "## Conditional Statements"
   ]
  },
  {
   "cell_type": "code",
   "execution_count": null,
   "id": "4f5604df-6cf3-4cea-a1a2-ffe04ea3a246",
   "metadata": {},
   "outputs": [],
   "source": [
    "# writing a full conditional statement with if, elif, else  \n",
    "name = \"Jonathan\"  \n",
    "if name[0] == \"A\":\n",
    "    print(\"Name starts with an A\")\n",
    "elif name[0] == \"B\":\n",
    "    print(\"Name starts with a B\")  \n",
    "elif name[0] == \"J\":\n",
    "    print(\"Name starts with a J\")  \n",
    "else:\n",
    "    print(f'Name starts with a {name[0]}')"
   ]
  },
  {
   "cell_type": "markdown",
   "id": "e6c35f09-7f3f-4e64-8aad-636e6ec7b1e3",
   "metadata": {},
   "source": [
    "## Lists within lists"
   ]
  },
  {
   "cell_type": "code",
   "execution_count": null,
   "id": "76783a18-df74-4070-a10d-01aa66645556",
   "metadata": {},
   "outputs": [],
   "source": [
    "data = [5, \"book\",[34, \"hello\"], True]  \n",
    "print(data)  \n",
    "print(data[2])  \n",
    "print(data[1][-1])"
   ]
  },
  {
   "cell_type": "code",
   "execution_count": null,
   "id": "124c3c4f-cf04-432b-872a-9c9e4311082a",
   "metadata": {},
   "outputs": [],
   "source": [
    "# using double bracket notation to access lists within lists  \n",
    "print(data[2][0])         # will output 34\n",
    "inner_list = data[2]      # inner list equal [34, \"hello\"]\n",
    "print(inner_list[1])      # will output 'hello'"
   ]
  },
  {
   "cell_type": "code",
   "execution_count": null,
   "id": "bf8cec64-2a2b-49cd-a326-25253bcf5a88",
   "metadata": {},
   "outputs": [],
   "source": [
    "# changing values in a list through index  \n",
    "data = [5, 10, 15, 20]  \n",
    "print(data)  \n",
    "data[0] = 100      # change the value at index 0 - (5 to 100)\n",
    "print(data)"
   ]
  },
  {
   "cell_type": "code",
   "execution_count": null,
   "id": "2f0f5868-0578-49d6-8e09-ec6e0758318f",
   "metadata": {},
   "outputs": [],
   "source": [
    "# understanding how lists are stored  \n",
    "a = [5, 10]  \n",
    "b = a  \n",
    "print(f'a: {a}\\t b: {b}')  \n",
    "print(f'Location a[0]: {id(a[0])}\\t Location b[0]: {id(b[0])}')  \n",
    "a[0]    # re-declaring the value of a[0] also changes b[0]  \n",
    "print(f'a: {a}\\t b: {b}')"
   ]
  },
  {
   "cell_type": "code",
   "execution_count": null,
   "id": "b9e5ea0f-8fdd-4b07-9487-55b82df86aea",
   "metadata": {},
   "outputs": [],
   "source": [
    "# using [:] to copy a list  \n",
    "data = [5, 10, 15, 20]  \n",
    "data_copy = data[:]    # a single colon copies the list  \n",
    "data[0] = 50  \n",
    "print(f'data: {data}\\t data_copy: {data_copy}')  \n",
    "\n",
    "# you can also use data.copy()"
   ]
  },
  {
   "cell_type": "code",
   "execution_count": null,
   "id": "93095623-b994-44fb-8673-75f16b4eeee7",
   "metadata": {},
   "outputs": [],
   "source": [
    "# print out each item's first letter  \n",
    "names = ['John', 'Abraham', 'Sam', 'Kelly']  \n",
    "print(names[0][0], names[1][0], names[2][0], names[3][0])"
   ]
  },
  {
   "cell_type": "markdown",
   "id": "cf44cb0e-3da9-4364-9b27-4d2d2495a179",
   "metadata": {},
   "source": [
    "## For Loops"
   ]
  },
  {
   "cell_type": "code",
   "execution_count": null,
   "id": "ed61d3cd-4898-40b6-b9c0-0a75ca05bdef",
   "metadata": {},
   "outputs": [],
   "source": [
    "# writing your first for loop using range\n",
    "for num in range(5):\n",
    "    print(f'Value: {num}')"
   ]
  },
  {
   "cell_type": "code",
   "execution_count": null,
   "id": "b2479167-034a-42b6-9283-fb65474deaa7",
   "metadata": {},
   "outputs": [],
   "source": [
    "# providing the start, stop, and step for the range function   \n",
    "for num in range(2, 10, 2):\n",
    "    print(f'Value: {num}')    # will print all even numbers between 2 and 10"
   ]
  },
  {
   "cell_type": "code",
   "execution_count": null,
   "id": "fc2f353b-9b2d-468c-ae1f-d1bf545e5328",
   "metadata": {},
   "outputs": [],
   "source": [
    "# printing all characters in a name using the 'in' keyword  \n",
    "name = \"Jonathan Mensah\"\n",
    "for letter in name:\n",
    "    print(f'Value: {letter}')"
   ]
  },
  {
   "cell_type": "code",
   "execution_count": null,
   "id": "7d2e1d77-8bc4-4360-b062-8b1370a92393",
   "metadata": {},
   "outputs": [],
   "source": [
    "# counting and printing all the characters in a word\n",
    "name = \"Pneumonoultramicroscopicsilicovolcanoconiosis\"\n",
    "count = 1\n",
    "for letter in name:\n",
    "    print(f'Letter {count}: {letter}')\n",
    "    count = count + 1"
   ]
  },
  {
   "cell_type": "code",
   "execution_count": null,
   "id": "641eb701-b099-444e-990a-263adfb16644",
   "metadata": {},
   "outputs": [],
   "source": [
    "# using the continue statement within a for loop  \n",
    "for num in range(5):\n",
    "    if num == 3:\n",
    "        continue    # will read when num is equal to 3. At that time it stops iteration and goes back to the top to continue looping on the next iteration\n",
    "    print(num)"
   ]
  },
  {
   "cell_type": "code",
   "execution_count": null,
   "id": "adf894a4-1936-4151-86c1-397bfd133052",
   "metadata": {},
   "outputs": [],
   "source": [
    "# breaking out of a loop using the 'break' keyword - useful for stopping a loop when a condition is met\n",
    "for num in range(5):\n",
    "    if num == 3:\n",
    "        break    # will stop the loop when num is equal to 3\n",
    "    print(num)"
   ]
  },
  {
   "cell_type": "code",
   "execution_count": null,
   "id": "073c9fb7-b481-4a79-bf3a-5fe5c9f993d7",
   "metadata": {},
   "outputs": [],
   "source": [
    "# setting a placeholder using the 'pass' keyword\n",
    "for i in range(5):\n",
    "    print(i)\n",
    "    # pass"
   ]
  },
  {
   "cell_type": "code",
   "execution_count": null,
   "id": "95802472-b510-44e9-9467-89c4f5e617ae",
   "metadata": {},
   "outputs": [],
   "source": [
    "# a for loop that prints out all numbers from 1 to 100 that are divisible by 3  \n",
    "for i in range(1, 100, 3):\n",
    "    print(i)\n",
    "    pass"
   ]
  },
  {
   "cell_type": "code",
   "execution_count": null,
   "id": "228b3fc1-a55b-4cd5-8abe-e5053a5458a7",
   "metadata": {},
   "outputs": [],
   "source": [
    "# a for loop that asks for input and outputs the vowels  \n",
    "\n",
    "# ask the user for input\n",
    "user_input = input(\"Enter a string: \")  \n",
    "\n",
    "# convert the input to lowercase to handle both uppercase and lowercase vowel\n",
    "user_input = user_input.lower()  \n",
    "\n",
    "# initialize a variable to store the vowels  \n",
    "vowels = \"\"\n",
    "\n",
    "# iterate through each character in the input string\n",
    "for char in user_input:\n",
    "    if char in 'aeiou':\n",
    "        vowels = char + vowels\n",
    "\n",
    "print(f'Vowels in {user_input} are: {vowels}')"
   ]
  },
  {
   "cell_type": "markdown",
   "id": "f608598b-4067-4aea-8629-bb0753327648",
   "metadata": {},
   "source": [
    "## While Loops"
   ]
  },
  {
   "cell_type": "code",
   "execution_count": null,
   "id": "2747f810-a2eb-465e-a7f0-b11014f07153",
   "metadata": {},
   "outputs": [],
   "source": [
    "# writing your first while loop  \n",
    "health = 10  \n",
    "while health > 0:\n",
    "    print(health)\n",
    "    health = health - 1"
   ]
  },
  {
   "cell_type": "code",
   "execution_count": null,
   "id": "74b28716-a0c3-48c2-ae03-ea26a485b53a",
   "metadata": {},
   "outputs": [],
   "source": [
    "# using two or more loops together is called nested loop  \n",
    "for i in range(2):\n",
    "    for j in range(3):\n",
    "        print(i,j)"
   ]
  },
  {
   "cell_type": "markdown",
   "id": "c24380f5-ce34-494b-8920-e812bca8dd6f",
   "metadata": {},
   "source": [
    "1. User Input: Write a while loop that continues to ask for user input and runs \r\n",
    "until they type “quit”\n",
    ".3\n",
    "2. Double Loop: Write a for loop within a while loop that will count from 0 to 5, \r\n",
    "but when it reaches 3, it sets a game_over variable to True and breaks out of \r\n",
    "the loop. The while loop should continue to loop until game_over is True. The \r\n",
    "output should only be 0, 1, 2."
   ]
  },
  {
   "cell_type": "code",
   "execution_count": null,
   "id": "8c5bc396-aa15-4b04-86c6-19370d1ef7ea",
   "metadata": {},
   "outputs": [],
   "source": [
    "# a while loop that continues to ask the user for input until the input is \"quit\"\n",
    "while True:\n",
    "    user_input = input(\"Tell me something that I don't know \")\n",
    "    if user_input == \"quit\":\n",
    "        break"
   ]
  },
  {
   "cell_type": "code",
   "execution_count": null,
   "id": "16a928b9-c233-4df1-a76b-0d0746141614",
   "metadata": {},
   "outputs": [],
   "source": [
    "# a for loop within a while loop that will count from 0 to 5, but when it reaches 3, it sets a game_over variable to True and breaks out of the loop\n",
    "game_over = False\n",
    "while not game_over:\n",
    "    for i in range(6):\n",
    "        if i == 3:\n",
    "            game_over = True\n",
    "            break\n",
    "        print(i)"
   ]
  },
  {
   "cell_type": "markdown",
   "id": "58871bce-de66-406b-b580-a0fbce3f0495",
   "metadata": {},
   "source": [
    "## Working with Lists\n"
   ]
  },
  {
   "cell_type": "code",
   "execution_count": null,
   "id": "f7b713ab-6c87-49b0-a1e1-3681440a2e21",
   "metadata": {},
   "outputs": [],
   "source": [
    "# adding an item to the back/end of a list using the append\n",
    "nums = [12, 13]\n",
    "print(nums)\n",
    "nums.append(14)  \n",
    "print(nums)"
   ]
  },
  {
   "cell_type": "code",
   "execution_count": null,
   "id": "9d4f6dc5-22f7-44be-b0f9-3b601d7b81ea",
   "metadata": {},
   "outputs": [],
   "source": [
    "# insert(pos, item) allows you to add a value to a desired position  \n",
    "# adding a value to the begining of the list  \n",
    "words = [\"front\", \"back\"]\n",
    "print(words)\n",
    "words.insert(1, \"middle\")\n",
    "print(words)"
   ]
  },
  {
   "cell_type": "code",
   "execution_count": null,
   "id": "921894e7-a475-4cdf-a250-e05f721a2766",
   "metadata": {},
   "outputs": [],
   "source": [
    "# pop() removes the last item from a list\n",
    "items = [5, 'ball', True]\n",
    "items.pop()    # by default removes the last item\n",
    "removed_item = items.pop(0)\n",
    "print(removed_item,\"\\n\", items)"
   ]
  },
  {
   "cell_type": "code",
   "execution_count": null,
   "id": "4d68bd95-d213-4511-b79b-300ee3841cd3",
   "metadata": {},
   "outputs": [],
   "source": [
    "# using the remove method with a try/except\n",
    "sport = ['baseball', 'soccer', 'football', 'hockey']\n",
    "try:\n",
    "    sport.remove('soccer')\n",
    "except:\n",
    "    print(\"This item does not exist in the list anymore\")\n",
    "print(sport)"
   ]
  },
  {
   "cell_type": "code",
   "execution_count": null,
   "id": "eeb1df2d-8a6e-4faa-a0a8-4721f3a05cc3",
   "metadata": {},
   "outputs": [],
   "source": [
    "# Working with Numerical List Data - using min, max, and sum\n",
    "nums = [5, 3, 9]\n",
    "print(min(nums))    # will find the lowest number in the list\n",
    "print(max(nums))    # will find the highest number in the list\n",
    "print(sum(nums))    # will add all numbers in the list and return the sum"
   ]
  },
  {
   "cell_type": "code",
   "execution_count": null,
   "id": "ef5d26d7-a4d3-40c0-8fa7-1b7f7e5d9423",
   "metadata": {},
   "outputs": [],
   "source": [
    "# using sorted() on lists for numerical and alphabetical data\n",
    "nums = [5, 8, 0, 2]\n",
    "sorted_nums = sorted(nums)    # save to a new variable to use later\n",
    "print(nums, sorted_nums)"
   ]
  },
  {
   "cell_type": "code",
   "execution_count": null,
   "id": "56b17cdf-fd40-41f0-bcfc-63f0d3c37068",
   "metadata": {},
   "outputs": [],
   "source": [
    "# sorting a list with .sort() in place\n",
    "nums = [5, 8, 0, 2]\n",
    "nums.sort()    # alters the original variable directly\n",
    "print(nums)"
   ]
  },
  {
   "cell_type": "code",
   "execution_count": null,
   "id": "9808329b-75ca-4147-8183-3676540abff9",
   "metadata": {},
   "outputs": [],
   "source": [
    "# using conditional statements on a list\n",
    "names = ['Jonathan', 'Richmond', 'Miriam']\n",
    "if \"Miriam\" in names:\n",
    "    print(\"Found\")\n",
    "if \"Junior\" not in names:\n",
    "    print(\"Error: Not found\")"
   ]
  },
  {
   "cell_type": "code",
   "execution_count": null,
   "id": "b37b99c4-fc93-44a6-9774-7878243cf9d1",
   "metadata": {},
   "outputs": [],
   "source": [
    "# removing duplicates with loops\n",
    "names_list = ['Bob', 'Kenny', 'Amanda', 'Bob', 'Kenny']\n",
    "unique_list = []\n",
    "\n",
    "for name in names_list:\n",
    "    if name not in unique_list:\n",
    "        unique_list.append(name)\n",
    "print(unique_list)"
   ]
  },
  {
   "cell_type": "code",
   "execution_count": null,
   "id": "67e79879-3091-4009-907c-f58bb5848014",
   "metadata": {},
   "outputs": [],
   "source": [
    "# same project as above - using the set method which removes duplicates and returns a dictionary\n",
    "names_list = ['Bob', 'Kenny', 'Amanda', 'Bob', 'Kenny']\n",
    "unique_list = list(set(names_list))  \n",
    "print(unique_list)"
   ]
  },
  {
   "cell_type": "code",
   "execution_count": null,
   "id": "75673fac-1705-4ac1-8bd4-fc69fa262033",
   "metadata": {},
   "outputs": [],
   "source": [
    "# a while loop to continually ask the user to input a word, until they type “quit”\n",
    "# while True:\n",
    "#     user_input = input(\"Tell me something that I don't know \")\n",
    "#     if user_input == 'quit':\n",
    "#         break"
   ]
  }
 ],
 "metadata": {
  "kernelspec": {
   "display_name": "Python 3 (ipykernel)",
   "language": "python",
   "name": "python3"
  },
  "language_info": {
   "codemirror_mode": {
    "name": "ipython",
    "version": 3
   },
   "file_extension": ".py",
   "mimetype": "text/x-python",
   "name": "python",
   "nbconvert_exporter": "python",
   "pygments_lexer": "ipython3",
   "version": "3.11.0"
  }
 },
 "nbformat": 4,
 "nbformat_minor": 5
}
