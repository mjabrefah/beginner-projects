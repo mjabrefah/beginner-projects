{
 "cells": [
  {
   "cell_type": "markdown",
   "id": "7bc47997-82ee-4a4e-894b-4def8ba5b67b",
   "metadata": {},
   "source": [
    "## Creating a Calculator\n",
    "### Final Design\n",
    "These are the steps necessary to build our calculator:\n",
    "1. Ask the user for the calulation they would like to perform.  \n",
    "2. Ask the user for the numbers they would like to run the operation on.\n",
    "3. Set up try/except clause for mathematical operation.  \n",
    "    a. Convert numbers input to floats.  \n",
    "    b. Perform operation and print result.  \n",
    "    c. If an exception is hit, print error.  "
   ]
  },
  {
   "cell_type": "code",
   "execution_count": 14,
   "id": "f4df727b-4d10-4795-b750-0bfca4e7cbdd",
   "metadata": {},
   "outputs": [
    {
     "name": "stdin",
     "output_type": "stream",
     "text": [
      "Would you like to add/subtract/multiply/divide?  subtract\n"
     ]
    },
    {
     "name": "stdout",
     "output_type": "stream",
     "text": [
      "You chose subtract\n"
     ]
    }
   ],
   "source": [
    "# step 1: ask usser for calculation to be performed  \n",
    "operation = input(\"Would you like to add/subtract/multiply/divide? \").lower()  \n",
    "print(f'You chose {operation}')    # for testing purposes"
   ]
  },
  {
   "cell_type": "code",
   "execution_count": 15,
   "id": "281c4a0a-51fa-4866-bbd6-858dfbae962c",
   "metadata": {},
   "outputs": [
    {
     "name": "stdout",
     "output_type": "stream",
     "text": [
      "You chose subtract\n",
      "Please keep in mind that the order of your numbers matters\n"
     ]
    },
    {
     "name": "stdin",
     "output_type": "stream",
     "text": [
      "What is your first number?  12\n",
      "What is your second number?  23\n"
     ]
    },
    {
     "name": "stdout",
     "output_type": "stream",
     "text": [
      "First Number: 12\n",
      "Second Number: 23\n"
     ]
    }
   ],
   "source": [
    "# step 2: for numbers, alert order matters for subtracting and dividing  \n",
    "if operation == \"subtract\" or operation == \"divide\":\n",
    "    print(f'You chose {operation}')\n",
    "    print(\"Please keep in mind that the order of your numbers matters\")  \n",
    "\n",
    "num1 = input(\"What is your first number? \")\n",
    "num2 = input(\"What is your second number? \")\n",
    "print(f'First Number: {num1}')      # for testing purposes\n",
    "print(f'Second Number: {num2}')     # for testing purposes"
   ]
  },
  {
   "cell_type": "code",
   "execution_count": 16,
   "id": "db255618-7c93-4e61-bf05-f81aa8252bb9",
   "metadata": {},
   "outputs": [
    {
     "name": "stdout",
     "output_type": "stream",
     "text": [
      "12.0 - 23.0 = -11.0\n"
     ]
    }
   ],
   "source": [
    "# step 3: setup try/except for mathematical operation  \n",
    "try:\n",
    "    # 3a: immediately try to convert numbers input to floats  \n",
    "    num1, num2 = float(num1), float(num2)\n",
    "\n",
    "    # 3b: perform operation and print result  \n",
    "    if operation == \"add\":\n",
    "        result = num1 + num2\n",
    "        print(f'{num1} + {num2} = {result}')\n",
    "    elif operation == \"subtract\":\n",
    "        result = num1 - num2\n",
    "        print(f'{num1} - {num2} = {result}')\n",
    "    elif operation == \"multiply\":\n",
    "        result = num1 * num2\n",
    "        print(f'{num1} * {num2} = {result}')\n",
    "    elif operation == \"divide\":\n",
    "        result = num1 / num2\n",
    "        print(f'{num1} / {num2} = {result}')\n",
    "    else:\n",
    "        # else will be hit if they didn't choose an option correctly\n",
    "        print(f'Sorry, but {operation} is not an option')\n",
    "except:\n",
    "    # 3c: print error\n",
    "    print(\"Error: Improper numbers used. Please try again.\")\n",
    "    "
   ]
  }
 ],
 "metadata": {
  "kernelspec": {
   "display_name": "Python 3 (ipykernel)",
   "language": "python",
   "name": "python3"
  },
  "language_info": {
   "codemirror_mode": {
    "name": "ipython",
    "version": 3
   },
   "file_extension": ".py",
   "mimetype": "text/x-python",
   "name": "python",
   "nbconvert_exporter": "python",
   "pygments_lexer": "ipython3",
   "version": "3.11.0"
  }
 },
 "nbformat": 4,
 "nbformat_minor": 5
}
