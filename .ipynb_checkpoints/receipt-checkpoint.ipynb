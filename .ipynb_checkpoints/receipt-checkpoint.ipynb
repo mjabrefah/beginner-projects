{
 "cells": [
  {
   "cell_type": "markdown",
   "id": "330ebbf3-5b11-4088-9ae4-22cf7f10af4e",
   "metadata": {},
   "source": [
    "## Printing Receipts"
   ]
  },
  {
   "cell_type": "code",
   "execution_count": 2,
   "id": "e430ea91-4da1-410c-b7b5-76ec2d9d2d08",
   "metadata": {},
   "outputs": [
    {
     "name": "stdout",
     "output_type": "stream",
     "text": [
      "**************************************************\n",
      "\t\tKingdom Bookstore\n",
      "\t\tCommecial Area\n",
      "\t\tKNUST, GH\n",
      "==================================================\n",
      "\tProduct Name\tProduct Price\n",
      "\tBooks\t\t$49.95\n",
      "\tComputer\t\t$124.89\n",
      "\tPrinter\t\t$579.99\n",
      "==================================================\n",
      "\t\tTotal\n",
      "\t\t$754.83\n",
      "==================================================\n",
      "\tThanks for shoping with us today!\n",
      "**************************************************\n"
     ]
    }
   ],
   "source": [
    "# create a product and price for three items  \n",
    "p1_name, p1_price = \"Books\", 49.95  \n",
    "p2_name, p2_price = \"Computer\", 124.89  \n",
    "p3_name, p3_price = \"Printer\", 579.99  \n",
    "\n",
    "# create a company name and information  \n",
    "company_name = \"kingdom bookstore\"  \n",
    "company_address = \"Commecial Area\"  \n",
    "company_city = \"KNUST, GH\"  \n",
    "\n",
    "# declare ending message  \n",
    "message = \"Thanks for shoping with us today!\"  \n",
    "\n",
    "# create a top border  \n",
    "print(\"*\" * 50)  \n",
    "\n",
    "# print company information first, using string formating  \n",
    "print(f'\\t\\t{company_name.title()}')\n",
    "print(f'\\t\\t{company_address}')\n",
    "print(f'\\t\\t{company_city}')  \n",
    "\n",
    "# print a line between sections  \n",
    "print(\"=\" * 50)  \n",
    "\n",
    "# print out header for section of items  \n",
    "print(\"\\tProduct Name\\tProduct Price\")  \n",
    "\n",
    "# create a print statement for each product  \n",
    "print(f'\\t{p1_name}\\t\\t${p1_price}')\n",
    "print(f'\\t{p2_name}\\t\\t${p2_price}')\n",
    "print(f'\\t{p3_name}\\t\\t${p3_price}')\n",
    "\n",
    "# print a line between sections  \n",
    "print(\"=\" * 50)  \n",
    "\n",
    "# print out header section for total\n",
    "print(\"\\t\\tTotal\")\n",
    "\n",
    "# calculate total price and print out\n",
    "total = p1_price + p2_price + p3_price\n",
    "print(f'\\t\\t${total}')\n",
    "\n",
    "# print a line between sections\n",
    "print(\"=\" * 50)\n",
    "\n",
    "# print ending message  \n",
    "print(f'\\t{message}')\n",
    "\n",
    "\n",
    "# create footer\n",
    "print(\"*\" * 50)  "
   ]
  },
  {
   "cell_type": "code",
   "execution_count": null,
   "id": "c5bf1a3a-c30f-4409-a927-7be86f5e1cbd",
   "metadata": {},
   "outputs": [],
   "source": []
  }
 ],
 "metadata": {
  "kernelspec": {
   "display_name": "Python 3 (ipykernel)",
   "language": "python",
   "name": "python3"
  },
  "language_info": {
   "codemirror_mode": {
    "name": "ipython",
    "version": 3
   },
   "file_extension": ".py",
   "mimetype": "text/x-python",
   "name": "python",
   "nbconvert_exporter": "python",
   "pygments_lexer": "ipython3",
   "version": "3.11.0"
  }
 },
 "nbformat": 4,
 "nbformat_minor": 5
}
